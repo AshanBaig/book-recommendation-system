{
 "cells": [
  {
   "cell_type": "code",
   "execution_count": 1,
   "id": "6c8ec853-ca27-4c49-84b9-57aaa8b419cb",
   "metadata": {},
   "outputs": [],
   "source": [
    "import pandas as pd \n",
    "import numpy as np\n"
   ]
  },
  {
   "cell_type": "code",
   "execution_count": 57,
   "id": "9c6502e7-55ec-4b45-bcf6-8a77359964b0",
   "metadata": {},
   "outputs": [
    {
     "name": "stderr",
     "output_type": "stream",
     "text": [
      "C:\\Users\\ashan\\AppData\\Local\\Temp\\ipykernel_8464\\634026551.py:1: DtypeWarning: Columns (3) have mixed types. Specify dtype option on import or set low_memory=False.\n",
      "  books=pd.read_csv(\"book_dataset/Books.csv\")\n"
     ]
    }
   ],
   "source": [
    "books=pd.read_csv(\"book_dataset/Books.csv\")\n",
    "ratings=pd.read_csv(\"book_dataset/Ratings.csv\")\n",
    "users=pd.read_csv(\"book_dataset/Users.csv\")\n"
   ]
  },
  {
   "cell_type": "markdown",
   "id": "af4c622e-fdfc-4836-8b6f-ee2b4412c4cf",
   "metadata": {},
   "source": [
    "# First check\n",
    "    - Shape\n",
    "    - null\n",
    "    - Duplicate"
   ]
  },
  {
   "cell_type": "code",
   "execution_count": 58,
   "id": "db42ee6f-3556-4a02-ba3d-b514a00c3475",
   "metadata": {},
   "outputs": [
    {
     "name": "stdout",
     "output_type": "stream",
     "text": [
      "(271360, 8)\n",
      "(1149780, 3)\n",
      "(278858, 3)\n"
     ]
    }
   ],
   "source": [
    "print(books.shape)\n",
    "print(ratings.shape)\n",
    "print(users.shape)"
   ]
  },
  {
   "cell_type": "code",
   "execution_count": 63,
   "id": "adab1b1c-6bbc-435b-b0dd-338d6414ad11",
   "metadata": {},
   "outputs": [
    {
     "name": "stdout",
     "output_type": "stream",
     "text": [
      "ISBN                   0\n",
      "Book-Title             0\n",
      "Book-Author            2\n",
      "Year-Of-Publication    0\n",
      "Publisher              2\n",
      "Image-URL-S            0\n",
      "Image-URL-M            0\n",
      "Image-URL-L            3\n",
      "dtype: int64\n"
     ]
    }
   ],
   "source": [
    "print(books.isnull().sum())"
   ]
  },
  {
   "cell_type": "code",
   "execution_count": 64,
   "id": "88077375-d7c0-45f6-9fc4-1c1e26628c9d",
   "metadata": {},
   "outputs": [
    {
     "name": "stdout",
     "output_type": "stream",
     "text": [
      "User-ID        0\n",
      "ISBN           0\n",
      "Book-Rating    0\n",
      "dtype: int64\n"
     ]
    }
   ],
   "source": [
    "print(ratings.isnull().sum())\n"
   ]
  },
  {
   "cell_type": "code",
   "execution_count": 65,
   "id": "53f39be5-b7a3-4fcf-b819-16ee5224c6b6",
   "metadata": {},
   "outputs": [
    {
     "name": "stdout",
     "output_type": "stream",
     "text": [
      "User-ID          0\n",
      "Location         0\n",
      "Age         110762\n",
      "dtype: int64\n"
     ]
    }
   ],
   "source": [
    "print(users.isnull().sum())\n"
   ]
  },
  {
   "cell_type": "code",
   "execution_count": 39,
   "id": "3128634a-e9d8-40ee-abb3-1a832cca2423",
   "metadata": {},
   "outputs": [],
   "source": [
    "raings_user=raitngs.merge(users,on=\"User-ID\")"
   ]
  },
  {
   "cell_type": "code",
   "execution_count": 54,
   "id": "e5979076-c0a9-4adc-a9a7-2c8494076df6",
   "metadata": {},
   "outputs": [],
   "source": []
  },
  {
   "cell_type": "code",
   "execution_count": null,
   "id": "e6ccae4f-7ffb-4d01-b54f-bc9f1c438b3f",
   "metadata": {},
   "outputs": [],
   "source": []
  }
 ],
 "metadata": {
  "kernelspec": {
   "display_name": "Python 3 (ipykernel)",
   "language": "python",
   "name": "python3"
  },
  "language_info": {
   "codemirror_mode": {
    "name": "ipython",
    "version": 3
   },
   "file_extension": ".py",
   "mimetype": "text/x-python",
   "name": "python",
   "nbconvert_exporter": "python",
   "pygments_lexer": "ipython3",
   "version": "3.12.4"
  }
 },
 "nbformat": 4,
 "nbformat_minor": 5
}
