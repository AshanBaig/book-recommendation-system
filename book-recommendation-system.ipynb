{
 "cells": [
  {
   "cell_type": "code",
   "execution_count": 1,
   "id": "6c8ec853-ca27-4c49-84b9-57aaa8b419cb",
   "metadata": {},
   "outputs": [],
   "source": [
    "import pandas as pd \n",
    "import numpy as np\n"
   ]
  },
  {
   "cell_type": "code",
   "execution_count": 57,
   "id": "9c6502e7-55ec-4b45-bcf6-8a77359964b0",
   "metadata": {},
   "outputs": [
    {
     "name": "stderr",
     "output_type": "stream",
     "text": [
      "C:\\Users\\ashan\\AppData\\Local\\Temp\\ipykernel_8464\\634026551.py:1: DtypeWarning: Columns (3) have mixed types. Specify dtype option on import or set low_memory=False.\n",
      "  books=pd.read_csv(\"book_dataset/Books.csv\")\n"
     ]
    }
   ],
   "source": [
    "books=pd.read_csv(\"book_dataset/Books.csv\")\n",
    "ratings=pd.read_csv(\"book_dataset/Ratings.csv\")\n",
    "users=pd.read_csv(\"book_dataset/Users.csv\")\n"
   ]
  },
  {
   "cell_type": "markdown",
   "id": "af4c622e-fdfc-4836-8b6f-ee2b4412c4cf",
   "metadata": {},
   "source": [
    "# First check\n",
    "    - Shape\n",
    "    - null\n",
    "    - Duplicate"
   ]
  },
  {
   "cell_type": "code",
   "execution_count": 58,
   "id": "db42ee6f-3556-4a02-ba3d-b514a00c3475",
   "metadata": {},
   "outputs": [
    {
     "name": "stdout",
     "output_type": "stream",
     "text": [
      "(271360, 8)\n",
      "(1149780, 3)\n",
      "(278858, 3)\n"
     ]
    }
   ],
   "source": [
    "print(books.shape)\n",
    "print(ratings.shape)\n",
    "print(users.shape)"
   ]
  },
  {
   "cell_type": "code",
   "execution_count": 63,
   "id": "adab1b1c-6bbc-435b-b0dd-338d6414ad11",
   "metadata": {},
   "outputs": [
    {
     "name": "stdout",
     "output_type": "stream",
     "text": [
      "ISBN                   0\n",
      "Book-Title             0\n",
      "Book-Author            2\n",
      "Year-Of-Publication    0\n",
      "Publisher              2\n",
      "Image-URL-S            0\n",
      "Image-URL-M            0\n",
      "Image-URL-L            3\n",
      "dtype: int64\n"
     ]
    }
   ],
   "source": [
    "print(books.isnull().sum())"
   ]
  },
  {
   "cell_type": "code",
   "execution_count": 64,
   "id": "88077375-d7c0-45f6-9fc4-1c1e26628c9d",
   "metadata": {},
   "outputs": [
    {
     "name": "stdout",
     "output_type": "stream",
     "text": [
      "User-ID        0\n",
      "ISBN           0\n",
      "Book-Rating    0\n",
      "dtype: int64\n"
     ]
    }
   ],
   "source": [
    "print(ratings.isnull().sum())\n"
   ]
  },
  {
   "cell_type": "code",
   "execution_count": 66,
   "id": "53f39be5-b7a3-4fcf-b819-16ee5224c6b6",
   "metadata": {},
   "outputs": [
    {
     "name": "stdout",
     "output_type": "stream",
     "text": [
      "User-ID          0\n",
      "Location         0\n",
      "Age         110762\n",
      "dtype: int64\n"
     ]
    }
   ],
   "source": [
    "print(users.isnull().sum())  # age is missing almost 50% so we can dicard it\n"
   ]
  },
  {
   "cell_type": "code",
   "execution_count": 67,
   "id": "3128634a-e9d8-40ee-abb3-1a832cca2423",
   "metadata": {},
   "outputs": [
    {
     "data": {
      "text/plain": [
       "0"
      ]
     },
     "execution_count": 67,
     "metadata": {},
     "output_type": "execute_result"
    }
   ],
   "source": [
    "books.duplicated().sum()"
   ]
  },
  {
   "cell_type": "code",
   "execution_count": 69,
   "id": "e5979076-c0a9-4adc-a9a7-2c8494076df6",
   "metadata": {},
   "outputs": [
    {
     "data": {
      "text/plain": [
       "0"
      ]
     },
     "execution_count": 69,
     "metadata": {},
     "output_type": "execute_result"
    }
   ],
   "source": [
    "ratings.duplicated().sum()"
   ]
  },
  {
   "cell_type": "code",
   "execution_count": 68,
   "id": "e6ccae4f-7ffb-4d01-b54f-bc9f1c438b3f",
   "metadata": {},
   "outputs": [
    {
     "data": {
      "text/plain": [
       "0"
      ]
     },
     "execution_count": 68,
     "metadata": {},
     "output_type": "execute_result"
    }
   ],
   "source": [
    "users.duplicated().sum()"
   ]
  },
  {
   "cell_type": "code",
   "execution_count": 78,
   "id": "89a154eb-1905-413d-b0a0-e3234cbd7918",
   "metadata": {},
   "outputs": [],
   "source": [
    "books.fillna({\"Publisher\":\"unknown\",\"Book-Author\":\"unknown\"},inplace=True)"
   ]
  },
  {
   "cell_type": "markdown",
   "id": "4466b469-9dd9-4ee5-9cf9-f750a05ec09a",
   "metadata": {},
   "source": [
    "## Popularity Based "
   ]
  },
  {
   "cell_type": "code",
   "execution_count": 85,
   "id": "f57f786b-cbbb-489d-9b63-e2b81bc41a57",
   "metadata": {},
   "outputs": [
    {
     "data": {
      "text/html": [
       "<div>\n",
       "<style scoped>\n",
       "    .dataframe tbody tr th:only-of-type {\n",
       "        vertical-align: middle;\n",
       "    }\n",
       "\n",
       "    .dataframe tbody tr th {\n",
       "        vertical-align: top;\n",
       "    }\n",
       "\n",
       "    .dataframe thead th {\n",
       "        text-align: right;\n",
       "    }\n",
       "</style>\n",
       "<table border=\"1\" class=\"dataframe\">\n",
       "  <thead>\n",
       "    <tr style=\"text-align: right;\">\n",
       "      <th></th>\n",
       "      <th>User-ID</th>\n",
       "      <th>Location</th>\n",
       "      <th>Age</th>\n",
       "    </tr>\n",
       "  </thead>\n",
       "  <tbody>\n",
       "    <tr>\n",
       "      <th>22892</th>\n",
       "      <td>22893</td>\n",
       "      <td>tauranga, bay of plenty, new zealand</td>\n",
       "      <td>NaN</td>\n",
       "    </tr>\n",
       "  </tbody>\n",
       "</table>\n",
       "</div>"
      ],
      "text/plain": [
       "       User-ID                              Location  Age\n",
       "22892    22893  tauranga, bay of plenty, new zealand  NaN"
      ]
     },
     "execution_count": 85,
     "metadata": {},
     "output_type": "execute_result"
    }
   ],
   "source": [
    "users.sample()"
   ]
  },
  {
   "cell_type": "code",
   "execution_count": 87,
   "id": "1422f859-e731-438e-9004-5998c11d5176",
   "metadata": {},
   "outputs": [
    {
     "data": {
      "text/html": [
       "<div>\n",
       "<style scoped>\n",
       "    .dataframe tbody tr th:only-of-type {\n",
       "        vertical-align: middle;\n",
       "    }\n",
       "\n",
       "    .dataframe tbody tr th {\n",
       "        vertical-align: top;\n",
       "    }\n",
       "\n",
       "    .dataframe thead th {\n",
       "        text-align: right;\n",
       "    }\n",
       "</style>\n",
       "<table border=\"1\" class=\"dataframe\">\n",
       "  <thead>\n",
       "    <tr style=\"text-align: right;\">\n",
       "      <th></th>\n",
       "      <th>User-ID</th>\n",
       "      <th>ISBN</th>\n",
       "      <th>Book-Rating</th>\n",
       "      <th>Location</th>\n",
       "      <th>Age</th>\n",
       "    </tr>\n",
       "  </thead>\n",
       "  <tbody>\n",
       "    <tr>\n",
       "      <th>734321</th>\n",
       "      <td>177458</td>\n",
       "      <td>0140245162</td>\n",
       "      <td>0</td>\n",
       "      <td>ottawa, ontario, canada</td>\n",
       "      <td>29.0</td>\n",
       "    </tr>\n",
       "    <tr>\n",
       "      <th>449722</th>\n",
       "      <td>107784</td>\n",
       "      <td>0671024108</td>\n",
       "      <td>8</td>\n",
       "      <td>tarentum, pennsylvania, usa</td>\n",
       "      <td>NaN</td>\n",
       "    </tr>\n",
       "    <tr>\n",
       "      <th>319376</th>\n",
       "      <td>76352</td>\n",
       "      <td>0812524330</td>\n",
       "      <td>8</td>\n",
       "      <td>olympia, washington, usa</td>\n",
       "      <td>58.0</td>\n",
       "    </tr>\n",
       "    <tr>\n",
       "      <th>1057351</th>\n",
       "      <td>252652</td>\n",
       "      <td>044023722X</td>\n",
       "      <td>0</td>\n",
       "      <td>victoria, british columbia, canada</td>\n",
       "      <td>26.0</td>\n",
       "    </tr>\n",
       "  </tbody>\n",
       "</table>\n",
       "</div>"
      ],
      "text/plain": [
       "         User-ID        ISBN  Book-Rating                            Location  \\\n",
       "734321    177458  0140245162            0             ottawa, ontario, canada   \n",
       "449722    107784  0671024108            8         tarentum, pennsylvania, usa   \n",
       "319376     76352  0812524330            8            olympia, washington, usa   \n",
       "1057351   252652  044023722X            0  victoria, british columbia, canada   \n",
       "\n",
       "          Age  \n",
       "734321   29.0  \n",
       "449722    NaN  \n",
       "319376   58.0  \n",
       "1057351  26.0  "
      ]
     },
     "execution_count": 87,
     "metadata": {},
     "output_type": "execute_result"
    }
   ],
   "source": [
    "ratings_users=ratings.merge(users,on=\"User-ID\")\n",
    "ratings_users.sample(4)"
   ]
  },
  {
   "cell_type": "code",
   "execution_count": 88,
   "id": "2456e63e-c1d1-47e1-8435-5b5ea486fb82",
   "metadata": {},
   "outputs": [],
   "source": [
    "data=books.merge(raings_user,on=\"ISBN\")"
   ]
  },
  {
   "cell_type": "code",
   "execution_count": 115,
   "id": "0e498fee-9ded-4998-a0bb-3d72930e4da6",
   "metadata": {},
   "outputs": [],
   "source": [
    "popular_books=data.sort_values(by=\"Book-Rating\",ascending=False)\n"
   ]
  },
  {
   "cell_type": "code",
   "execution_count": 122,
   "id": "997722c5-491a-4caf-a131-6be9a6f185f2",
   "metadata": {},
   "outputs": [
    {
     "name": "stdout",
     "output_type": "stream",
     "text": [
      "(' 0330299891',         User-ID         ISBN  Book-Rating                          Location  \\\n",
      "371986    89192   0330299891            0        goor, alabama, netherlands   \n",
      "750718   181817   0330299891            6  enschede, overijsel, netherlands   \n",
      "\n",
      "         Age  \n",
      "371986  34.0  \n",
      "750718  37.0  )\n"
     ]
    }
   ],
   "source": [
    "for i in raings_user.groupby(by=\"ISBN\"):\n",
    "    print(i)\n",
    "    break"
   ]
  },
  {
   "cell_type": "code",
   "execution_count": null,
   "id": "32b9685b-4646-4c1a-92b0-8c11f71f00b6",
   "metadata": {},
   "outputs": [],
   "source": []
  }
 ],
 "metadata": {
  "kernelspec": {
   "display_name": "Python 3 (ipykernel)",
   "language": "python",
   "name": "python3"
  },
  "language_info": {
   "codemirror_mode": {
    "name": "ipython",
    "version": 3
   },
   "file_extension": ".py",
   "mimetype": "text/x-python",
   "name": "python",
   "nbconvert_exporter": "python",
   "pygments_lexer": "ipython3",
   "version": "3.12.4"
  }
 },
 "nbformat": 4,
 "nbformat_minor": 5
}
